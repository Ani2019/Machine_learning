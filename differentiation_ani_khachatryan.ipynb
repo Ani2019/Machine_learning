{
 "cells": [
  {
   "cell_type": "markdown",
   "metadata": {},
   "source": [
    "# Differentiation "
   ]
  },
  {
   "cell_type": "markdown",
   "metadata": {},
   "source": [
    "Since it easy to google every task please please please try to undestand what's going on. The \"just answer\" thing will be not counted, make sure to present derivation of your solution. It is absolutely OK if you found an answer on web then just exercise in $\\LaTeX$ copying it into here."
   ]
  },
  {
   "cell_type": "markdown",
   "metadata": {},
   "source": [
    "Useful links: \n",
    "[1](http://www.machinelearning.ru/wiki/images/2/2a/Matrix-Gauss.pdf)\n",
    "[2](http://www.atmos.washington.edu/~dennis/MatrixCalculus.pdf)\n",
    "[3](http://cal.cs.illinois.edu/~johannes/research/matrix%20calculus.pdf)"
   ]
  },
  {
   "cell_type": "markdown",
   "metadata": {},
   "source": [
    "## ex. 1"
   ]
  },
  {
   "cell_type": "markdown",
   "metadata": {},
   "source": [
    "$$  \n",
    "y = x^Tx,  \\quad x \\in \\mathbb{R}^N \n",
    "$$"
   ]
  },
  {
   "cell_type": "markdown",
   "metadata": {},
   "source": [
    "$$\n",
    "\\begin{align}\n",
    "    x &= \\begin{bmatrix}\n",
    "           x_{1} \\\\\n",
    "           x_{2} \\\\\n",
    "           \\vdots \\\\\n",
    "           x_{N}\n",
    "         \\end{bmatrix},\\qquad  x^{T} = \\begin{bmatrix}\n",
    "           x_{1}, \n",
    "           x_{2},\n",
    "           \\cdots \n",
    "           x_{N}\n",
    "         \\end{bmatrix}\n",
    "         \\end{align}\n",
    "$$\n",
    "$$\n",
    "x^{T} x = \\begin{bmatrix}\n",
    "           x_{1}, \n",
    "           x_{2},\n",
    "           \\cdots \n",
    "           x_{N}\n",
    "         \\end{bmatrix}\\cdot \\begin{bmatrix}\n",
    "           x_{1} \\\\\n",
    "           x_{2} \\\\\n",
    "           \\vdots \\\\\n",
    "           x_{N}\n",
    "         \\end{bmatrix} = x_{1}^2+x_{2}^2+\\cdot + x_{N}^2\n",
    "$$\n",
    "$$\n",
    "\\frac{\\partial y}{\\partial x_{k}} = \\frac{\\partial y}{\\partial x_{k}}(x^{T} x) \n",
    "= \\frac{\\partial }{\\partial x_{k}}(\\sum_{i = 1}^{N}x_{i}^2) = \\sum_{i = 1}^{N}\\frac{\\partial x_{i}^2 }{\\partial x_{k}} = 2x_{k}\n",
    "$$\n",
    "$$\n",
    "\\frac{\\partial y}{\\partial x} = 2 x^{T}\n",
    "$$\n"
   ]
  },
  {
   "cell_type": "markdown",
   "metadata": {},
   "source": [
    "## ex. 2"
   ]
  },
  {
   "cell_type": "markdown",
   "metadata": {},
   "source": [
    "$$ y = tr(AB) \\quad A,B \\in \\mathbb{R}^{N \\times N} $$ "
   ]
  },
  {
   "cell_type": "markdown",
   "metadata": {},
   "source": [
    "$$\n",
    "tr(AB) = \\sum_{i = 1}^{N} (AB)_{ii} = \\sum_{i = 1}^{N} \\sum_{j = 1}^{N}a_{ij}b_{ji} \n",
    "$$\n",
    "\n",
    "$$\n",
    "\\frac{\\partial y}{\\partial a_{ef}}  = \\frac{\\partial }{\\partial a_{ef}} \\sum_{i = 1}^{N} \\sum_{j = 1}^{N}a_{ij}b_{ji} = \\sum_{i = 1}^{N} \\sum_{j = 1}^{N} \\frac{\\partial }{\\partial a_{ef}}(a_{ij}b_{ji}) = b_{fe}\n",
    "$$\n",
    "\n",
    "$$\n",
    "\\frac{dy}{dA} = \\begin{pmatrix} \n",
    "b_{11} & b_{21} & \\cdots & b_{N1} \\\\\n",
    "b_{12} & b_{22} & \\cdots & b_{N2} \\\\\n",
    "\\cdots \\\\\n",
    "b_{1N} & b_{2N} & \\cdots & b_{NN}   \n",
    "\\end{pmatrix} = B^{T}\n",
    "$$"
   ]
  },
  {
   "cell_type": "markdown",
   "metadata": {},
   "source": [
    "## ex. 3"
   ]
  },
  {
   "cell_type": "markdown",
   "metadata": {},
   "source": [
    "$$  \n",
    "y = x^TAc , \\quad A\\in \\mathbb{R}^{N \\times N}, x\\in \\mathbb{R}^{N}, c\\in \\mathbb{R}^{N} \n",
    "$$"
   ]
  },
  {
   "cell_type": "markdown",
   "metadata": {},
   "source": [
    "$$\n",
    "\\begin{align}\n",
    "    x = \\begin{bmatrix}\n",
    "           x_{1} \\\\\n",
    "           x_{2} \\\\\n",
    "           \\vdots \\\\\n",
    "           x_{N}\n",
    "         \\end{bmatrix},\\qquad  x^{T} = \\begin{bmatrix}\n",
    "           x_{1}, \n",
    "           x_{2},\n",
    "           \\cdots \n",
    "           x_{N}\n",
    "         \\end{bmatrix}, \\qquad c = \\begin{bmatrix}\n",
    "           c_{1} \\\\\n",
    "           c_{2} \\\\\n",
    "           \\vdots \\\\\n",
    "           c_{N}\n",
    "         \\end{bmatrix}\n",
    "         \\end{align}\n",
    "$$\n",
    "$$\n",
    "\\frac{\\partial y}{\\partial A_{ab}} = \\frac{\\partial }{\\partial A_{ab}}(x^T Ac) = \\frac{\\partial }{\\partial A_{ab}}(\\sum_{j = 1}^{N}\\sum_{k = 1}^{N}x_{j}A_{jk}c_{k}) = \\sum_{j = 1}^{N}\\sum_{k = 1}^{N}\\frac{\\partial }{\\partial A_{ab}}(x_{j}A_{jk}c_{k}) = x_{a}c_{b} = (xc^{T})_{ab}\n",
    "$$ \n",
    "\n",
    "$$\n",
    "\\frac{dy}{dA} = xc^T\n",
    "$$"
   ]
  },
  {
   "cell_type": "markdown",
   "metadata": {},
   "source": [
    "## ex. 4"
   ]
  },
  {
   "cell_type": "markdown",
   "metadata": {},
   "source": [
    "Classic matrix factorization example. Given matrix $X$ you need to find $A$, $S$ to approximate $X$. This can be done by simple gradient descent iteratively alternating $A$ and $S$ updates.\n",
    "$$\n",
    "J = || X - AS ||_2^2  , \\quad A\\in \\mathbb{R}^{N \\times R} , \\quad S\\in \\mathbb{R}^{R \\times M}\n",
    "$$"
   ]
  },
  {
   "cell_type": "markdown",
   "metadata": {},
   "source": [
    "Useful facts\n",
    "$$\n",
    "tr(AB) = tr(BA)\n",
    "$$\n",
    "\n",
    "\n",
    "$$\n",
    "\\frac{\\partial tr(AB)}{\\partial A} = B^T\n",
    "$$\n",
    "\n",
    "\n",
    "$$\n",
    "\\frac{\\partial tr(X^TBX)}{\\partial X} =  BX + B^TX\n",
    "$$\n",
    "\n",
    "$$\n",
    "|| X ||_2^2 = tr(XX^T) = tr(X^TX) \n",
    "$$ \n",
    "\n",
    "$$\n",
    "J = tr((X - AS)^T(X - AS)) = tr((X^T - S^TA^T)(X - AS)) = tr(X^TX - X^T(AS) - (S^TA^T)X + (S^TA^T)(AS) \n",
    "$$\n",
    "\n",
    "\n",
    "$$\n",
    "\\frac{dJ}{dS} = \\frac{d(tr(X^TX - X^T(AS) - (S^TA^T)X + (S^TA^T)(AS)))}{dS} = \\frac{d(S^TA^TAS)}{dS} - 2(X^TA)^T = - 2(X^TA)^T + A^TAS +  A^TAS = 2(A^TAS - A^TX) \n",
    "$$"
   ]
  },
  {
   "cell_type": "markdown",
   "metadata": {},
   "source": [
    "### First approach\n",
    "Using ex.2 and the fact:\n",
    "$$\n",
    "|| X ||_2^2 = tr(XX^T) \n",
    "$$ \n",
    "it is easy to derive gradients (you can find it in one of the refs). "
   ]
  },
  {
   "cell_type": "markdown",
   "metadata": {
    "collapsed": true
   },
   "source": [
    "### Second approach (optional)\n",
    "You can use *slightly different techniques* if they suits you. Take a look at this derivation:\n",
    "![](./img/grad.png)\n",
    "\n",
    "(excerpt from [Handbook of blind source separation, Jutten, page 517](https://books.google.ru/books?id=PTbj03bYH6kC&printsec=frontcover&dq=Handbook+of+Blind+Source+Separation&hl=en&sa=X&ved=0ahUKEwi-q_apiJDLAhULvXIKHVXJDWcQ6AEIHDAA#v=onepage&q=Handbook%20of%20Blind%20Source%20Separation&f=false), open for better picture)."
   ]
  },
  {
   "cell_type": "markdown",
   "metadata": {},
   "source": [
    "### Third approach\n",
    "And finally we can use chain rule! **YOUR TURN** to do it.\n",
    "let $ F = AS $ \n",
    "\n",
    "**Find**"
   ]
  },
  {
   "cell_type": "markdown",
   "metadata": {},
   "source": [
    "$$\n",
    "J = || X - F ||_2^2 = tr((X-F)^T(X-F)) = tr((X^T - F^T)(X - F)) = tr(X^T X -X^TF - F^TX+F^TF)\n",
    "$$\n",
    "\n",
    "\n",
    "\n",
    "$$\n",
    "\\frac{dJ}{dF} = \\frac{d(tr(X^T X -X^TF - F^TX+F^TF))}{dF} = 2F-2X = 2(AS-X)\n",
    "$$ "
   ]
  },
  {
   "cell_type": "markdown",
   "metadata": {},
   "source": [
    "and \n",
    "\n"
   ]
  },
  {
   "cell_type": "markdown",
   "metadata": {
    "collapsed": true
   },
   "source": [
    "Now it is easy do get desired gradients:\n",
    "$$\n",
    "\\frac{dJ}{dS} = \\frac{dJ}{dF}\\cdot \\frac{dF}{dS}\n",
    "$$ "
   ]
  },
  {
   "cell_type": "code",
   "execution_count": null,
   "metadata": {},
   "outputs": [],
   "source": []
  },
  {
   "cell_type": "code",
   "execution_count": null,
   "metadata": {},
   "outputs": [],
   "source": []
  }
 ],
 "metadata": {
  "kernelspec": {
   "display_name": "Python 3",
   "language": "python",
   "name": "python3"
  },
  "language_info": {
   "codemirror_mode": {
    "name": "ipython",
    "version": 3
   },
   "file_extension": ".py",
   "mimetype": "text/x-python",
   "name": "python",
   "nbconvert_exporter": "python",
   "pygments_lexer": "ipython3",
   "version": "3.6.3"
  }
 },
 "nbformat": 4,
 "nbformat_minor": 1
}
