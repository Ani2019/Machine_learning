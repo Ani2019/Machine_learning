{
 "cells": [
  {
   "cell_type": "code",
   "execution_count": 205,
   "metadata": {},
   "outputs": [],
   "source": [
    "import numpy as np\n",
    "import matplotlib.pyplot as plt\n",
    "import pandas as pd\n",
    "from sklearn.datasets import load_digits\n",
    "from scipy.linalg import eigh\n",
    "from scipy.linalg import svd"
   ]
  },
  {
   "cell_type": "code",
   "execution_count": 222,
   "metadata": {},
   "outputs": [],
   "source": [
    "#input matrix example\n",
    "X = np.array([\n",
    "    [4, 4, 0, 0, 1, 5],\n",
    "    [3, 3, 0, 0, 7, 9],\n",
    "    [5, 5, 0, 0, 4, 2],\n",
    "    [0, 0, 3, 3, 6, 9],\n",
    "])"
   ]
  },
  {
   "cell_type": "code",
   "execution_count": 223,
   "metadata": {},
   "outputs": [],
   "source": [
    "N = X.shape[0]\n",
    "P = X.shape[1]\n",
    "#D is a diagonal matrix\n",
    "D = np.zeros(P)"
   ]
  },
  {
   "cell_type": "code",
   "execution_count": 208,
   "metadata": {},
   "outputs": [],
   "source": [
    "# finding eigenvectors with biggest eigenvalues of X*transpose(X)\n",
    "Y = X.dot(np.transpose(X))\n",
    "eigenvalues, eigenvectors = eigh(Y)\n",
    "index = eigenvalues.argsort()[::-1]\n",
    "eigenvalues = eigenvalues[index]\n",
    "eigenvectors = eigenvectors[:, index]\n",
    "U = eigenvectors"
   ]
  },
  {
   "cell_type": "code",
   "execution_count": 209,
   "metadata": {},
   "outputs": [],
   "source": [
    "j = 0\n",
    "for i in eigenvalues:\n",
    "    if j == D.size:\n",
    "        break\n",
    "    elif i >= 0:\n",
    "            D[j] = np.sqrt(i)\n",
    "            j += 1\n"
   ]
  },
  {
   "cell_type": "code",
   "execution_count": 210,
   "metadata": {},
   "outputs": [],
   "source": [
    "Y1 = np.transpose(X).dot(X)\n",
    "eigenvalues1, eigenvectors1 = eigh(Y1)\n",
    "index1 = eigenvalues1.argsort()[::-1]\n",
    "eigenvalues1 = eigenvalues1[index1]\n",
    "eigenvectors1 = eigenvectors1[:, index1]\n",
    "V = np.transpose(eigenvectors1)"
   ]
  },
  {
   "cell_type": "code",
   "execution_count": 211,
   "metadata": {},
   "outputs": [],
   "source": [
    "D[::-1].sort()            "
   ]
  },
  {
   "cell_type": "code",
   "execution_count": 212,
   "metadata": {},
   "outputs": [],
   "source": [
    "#check from sklearn\n",
    "u, d, v = svd(X)"
   ]
  },
  {
   "cell_type": "code",
   "execution_count": 221,
   "metadata": {},
   "outputs": [
    {
     "data": {
      "text/plain": [
       "((4, 4), (4, 4))"
      ]
     },
     "execution_count": 221,
     "metadata": {},
     "output_type": "execute_result"
    }
   ],
   "source": [
    "np.shape(U), np.shape(u)"
   ]
  },
  {
   "cell_type": "code",
   "execution_count": null,
   "metadata": {},
   "outputs": [],
   "source": []
  },
  {
   "cell_type": "code",
   "execution_count": null,
   "metadata": {},
   "outputs": [],
   "source": []
  }
 ],
 "metadata": {
  "kernelspec": {
   "display_name": "Python 3",
   "language": "python",
   "name": "python3"
  },
  "language_info": {
   "codemirror_mode": {
    "name": "ipython",
    "version": 3
   },
   "file_extension": ".py",
   "mimetype": "text/x-python",
   "name": "python",
   "nbconvert_exporter": "python",
   "pygments_lexer": "ipython3",
   "version": "3.7.3"
  }
 },
 "nbformat": 4,
 "nbformat_minor": 2
}
